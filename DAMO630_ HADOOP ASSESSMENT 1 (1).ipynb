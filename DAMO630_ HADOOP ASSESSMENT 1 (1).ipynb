{
 "cells": [
  {
   "cell_type": "markdown",
   "id": "66ff259e",
   "metadata": {},
   "source": [
    "# **DAMO630 – Assignment 1 **\n",
    "**Business Challenge 1:** Privacy-Preserving Analytics with Synthetic Data  \n",
    "**Business Challenge 2:** NYC Taxi Mining with HDFS / MapReduce / PySpark\n",
    "\n",
    "This notebook is engineered to hit the **Excellent (4 points)** column of your rubric.  \n",
    "It reads your files from the **same folder as the notebook**:\n",
    "\n",
    "- `HealthInsurance.csv`\n",
    "- `yellow_tripdata_2024-01.parquet`\n",
    "\n",
    "> Run each section **top-to-bottom**. Where *terminal (bash)* commands appear, run them in your system shell and paste the outputs back into the provided Markdown cells."
   ]
  },
  {
   "cell_type": "markdown",
   "id": "fa3c91ec",
   "metadata": {},
   "source": [
    "## 0) Global Setup"
   ]
  },
  {
   "cell_type": "code",
   "execution_count": 32,
   "id": "ec276e31",
   "metadata": {},
   "outputs": [],
   "source": [
    "# If anything is missing, uncomment:\n",
    "# !pip install pandas numpy matplotlib scipy scikit-learn sdv ctgan pyspark\n",
    "\n",
    "import warnings, pandas as pd, numpy as np, matplotlib.pyplot as plt\n",
    "warnings.filterwarnings('ignore')\n",
    "plt.rcParams['figure.figsize'] = (6,4)\n",
    "\n",
    "RANDOM_STATE = 42\n",
    "REAL_DATA_PATH = \"HealthInsurance.csv\"\n",
    "LOCAL_TAXI_PATH = \"yellow_tripdata_2024-01.parquet\""
   ]
  },
  {
   "cell_type": "markdown",
   "id": "40b79ba9",
   "metadata": {},
   "source": [
    "---\n",
    "# **Business Challenge 1 — Privacy-Preserving Analytics with Synthetic Data**\n",
    "### Goal (per rubric):  \n",
    "- **Comprehensive EDA** (distributions, correlations, privacy-sensitive features)  \n",
    "- **Baseline synthetic** (correct classical method + comparisons + strengths/limits)  \n",
    "- **Advanced SDV**: **CTGAN** & **GaussianCopula**, compare + discuss  \n",
    "- **Evaluation**: Similarity (KS/correlation), **Utility (TSTR)**, **Privacy (duplication)**  \n",
    "- **Business interpretation** in healthcare context"
   ]
  },
  {
   "cell_type": "markdown",
   "id": "6e805ebc",
   "metadata": {},
   "source": [
    "## 1) Load dataset & Quick Peek"
   ]
  },
  {
   "cell_type": "code",
   "execution_count": 35,
   "id": "e83b1af8",
   "metadata": {},
   "outputs": [
    {
     "name": "stdout",
     "output_type": "stream",
     "text": [
      "Shape: (8802, 12)\n"
     ]
    },
    {
     "data": {
      "text/html": [
       "<div>\n",
       "<style scoped>\n",
       "    .dataframe tbody tr th:only-of-type {\n",
       "        vertical-align: middle;\n",
       "    }\n",
       "\n",
       "    .dataframe tbody tr th {\n",
       "        vertical-align: top;\n",
       "    }\n",
       "\n",
       "    .dataframe thead th {\n",
       "        text-align: right;\n",
       "    }\n",
       "</style>\n",
       "<table border=\"1\" class=\"dataframe\">\n",
       "  <thead>\n",
       "    <tr style=\"text-align: right;\">\n",
       "      <th></th>\n",
       "      <th>rownames</th>\n",
       "      <th>health</th>\n",
       "      <th>age</th>\n",
       "      <th>limit</th>\n",
       "      <th>gender</th>\n",
       "      <th>insurance</th>\n",
       "      <th>married</th>\n",
       "      <th>selfemp</th>\n",
       "      <th>family</th>\n",
       "      <th>region</th>\n",
       "      <th>ethnicity</th>\n",
       "      <th>education</th>\n",
       "    </tr>\n",
       "  </thead>\n",
       "  <tbody>\n",
       "    <tr>\n",
       "      <th>0</th>\n",
       "      <td>1</td>\n",
       "      <td>yes</td>\n",
       "      <td>31</td>\n",
       "      <td>no</td>\n",
       "      <td>male</td>\n",
       "      <td>yes</td>\n",
       "      <td>yes</td>\n",
       "      <td>yes</td>\n",
       "      <td>4</td>\n",
       "      <td>south</td>\n",
       "      <td>cauc</td>\n",
       "      <td>bachelor</td>\n",
       "    </tr>\n",
       "    <tr>\n",
       "      <th>1</th>\n",
       "      <td>2</td>\n",
       "      <td>yes</td>\n",
       "      <td>31</td>\n",
       "      <td>no</td>\n",
       "      <td>female</td>\n",
       "      <td>yes</td>\n",
       "      <td>yes</td>\n",
       "      <td>no</td>\n",
       "      <td>4</td>\n",
       "      <td>south</td>\n",
       "      <td>cauc</td>\n",
       "      <td>highschool</td>\n",
       "    </tr>\n",
       "    <tr>\n",
       "      <th>2</th>\n",
       "      <td>3</td>\n",
       "      <td>yes</td>\n",
       "      <td>54</td>\n",
       "      <td>no</td>\n",
       "      <td>male</td>\n",
       "      <td>yes</td>\n",
       "      <td>yes</td>\n",
       "      <td>no</td>\n",
       "      <td>5</td>\n",
       "      <td>west</td>\n",
       "      <td>cauc</td>\n",
       "      <td>ged</td>\n",
       "    </tr>\n",
       "    <tr>\n",
       "      <th>3</th>\n",
       "      <td>4</td>\n",
       "      <td>yes</td>\n",
       "      <td>27</td>\n",
       "      <td>no</td>\n",
       "      <td>male</td>\n",
       "      <td>yes</td>\n",
       "      <td>no</td>\n",
       "      <td>no</td>\n",
       "      <td>5</td>\n",
       "      <td>west</td>\n",
       "      <td>cauc</td>\n",
       "      <td>highschool</td>\n",
       "    </tr>\n",
       "    <tr>\n",
       "      <th>4</th>\n",
       "      <td>5</td>\n",
       "      <td>yes</td>\n",
       "      <td>39</td>\n",
       "      <td>no</td>\n",
       "      <td>male</td>\n",
       "      <td>yes</td>\n",
       "      <td>yes</td>\n",
       "      <td>no</td>\n",
       "      <td>5</td>\n",
       "      <td>west</td>\n",
       "      <td>cauc</td>\n",
       "      <td>none</td>\n",
       "    </tr>\n",
       "  </tbody>\n",
       "</table>\n",
       "</div>"
      ],
      "text/plain": [
       "   rownames health  age limit  gender insurance married selfemp  family  \\\n",
       "0         1    yes   31    no    male       yes     yes     yes       4   \n",
       "1         2    yes   31    no  female       yes     yes      no       4   \n",
       "2         3    yes   54    no    male       yes     yes      no       5   \n",
       "3         4    yes   27    no    male       yes      no      no       5   \n",
       "4         5    yes   39    no    male       yes     yes      no       5   \n",
       "\n",
       "  region ethnicity   education  \n",
       "0  south      cauc    bachelor  \n",
       "1  south      cauc  highschool  \n",
       "2   west      cauc         ged  \n",
       "3   west      cauc  highschool  \n",
       "4   west      cauc        none  "
      ]
     },
     "metadata": {},
     "output_type": "display_data"
    }
   ],
   "source": [
    "df_real = pd.read_csv(REAL_DATA_PATH)\n",
    "print(\"Shape:\", df_real.shape)\n",
    "display(df_real.head())"
   ]
  },
  {
   "cell_type": "markdown",
   "id": "301b5b4e",
   "metadata": {},
   "source": [
    "## 2) EDA — Schema, Missingness, Uniqueness"
   ]
  },
  {
   "cell_type": "code",
   "execution_count": 37,
   "id": "9b5ddb6c",
   "metadata": {},
   "outputs": [
    {
     "data": {
      "text/html": [
       "<div>\n",
       "<style scoped>\n",
       "    .dataframe tbody tr th:only-of-type {\n",
       "        vertical-align: middle;\n",
       "    }\n",
       "\n",
       "    .dataframe tbody tr th {\n",
       "        vertical-align: top;\n",
       "    }\n",
       "\n",
       "    .dataframe thead th {\n",
       "        text-align: right;\n",
       "    }\n",
       "</style>\n",
       "<table border=\"1\" class=\"dataframe\">\n",
       "  <thead>\n",
       "    <tr style=\"text-align: right;\">\n",
       "      <th></th>\n",
       "      <th>column</th>\n",
       "      <th>dtype</th>\n",
       "      <th>nulls</th>\n",
       "      <th>unique</th>\n",
       "    </tr>\n",
       "  </thead>\n",
       "  <tbody>\n",
       "    <tr>\n",
       "      <th>2</th>\n",
       "      <td>age</td>\n",
       "      <td>int64</td>\n",
       "      <td>0</td>\n",
       "      <td>45</td>\n",
       "    </tr>\n",
       "    <tr>\n",
       "      <th>11</th>\n",
       "      <td>education</td>\n",
       "      <td>object</td>\n",
       "      <td>0</td>\n",
       "      <td>7</td>\n",
       "    </tr>\n",
       "    <tr>\n",
       "      <th>10</th>\n",
       "      <td>ethnicity</td>\n",
       "      <td>object</td>\n",
       "      <td>0</td>\n",
       "      <td>3</td>\n",
       "    </tr>\n",
       "    <tr>\n",
       "      <th>8</th>\n",
       "      <td>family</td>\n",
       "      <td>int64</td>\n",
       "      <td>0</td>\n",
       "      <td>13</td>\n",
       "    </tr>\n",
       "    <tr>\n",
       "      <th>4</th>\n",
       "      <td>gender</td>\n",
       "      <td>object</td>\n",
       "      <td>0</td>\n",
       "      <td>2</td>\n",
       "    </tr>\n",
       "    <tr>\n",
       "      <th>1</th>\n",
       "      <td>health</td>\n",
       "      <td>object</td>\n",
       "      <td>0</td>\n",
       "      <td>2</td>\n",
       "    </tr>\n",
       "    <tr>\n",
       "      <th>5</th>\n",
       "      <td>insurance</td>\n",
       "      <td>object</td>\n",
       "      <td>0</td>\n",
       "      <td>2</td>\n",
       "    </tr>\n",
       "    <tr>\n",
       "      <th>3</th>\n",
       "      <td>limit</td>\n",
       "      <td>object</td>\n",
       "      <td>0</td>\n",
       "      <td>2</td>\n",
       "    </tr>\n",
       "    <tr>\n",
       "      <th>6</th>\n",
       "      <td>married</td>\n",
       "      <td>object</td>\n",
       "      <td>0</td>\n",
       "      <td>2</td>\n",
       "    </tr>\n",
       "    <tr>\n",
       "      <th>9</th>\n",
       "      <td>region</td>\n",
       "      <td>object</td>\n",
       "      <td>0</td>\n",
       "      <td>4</td>\n",
       "    </tr>\n",
       "    <tr>\n",
       "      <th>0</th>\n",
       "      <td>rownames</td>\n",
       "      <td>int64</td>\n",
       "      <td>0</td>\n",
       "      <td>8802</td>\n",
       "    </tr>\n",
       "    <tr>\n",
       "      <th>7</th>\n",
       "      <td>selfemp</td>\n",
       "      <td>object</td>\n",
       "      <td>0</td>\n",
       "      <td>2</td>\n",
       "    </tr>\n",
       "  </tbody>\n",
       "</table>\n",
       "</div>"
      ],
      "text/plain": [
       "       column   dtype  nulls  unique\n",
       "2         age   int64      0      45\n",
       "11  education  object      0       7\n",
       "10  ethnicity  object      0       3\n",
       "8      family   int64      0      13\n",
       "4      gender  object      0       2\n",
       "1      health  object      0       2\n",
       "5   insurance  object      0       2\n",
       "3       limit  object      0       2\n",
       "6     married  object      0       2\n",
       "9      region  object      0       4\n",
       "0    rownames   int64      0    8802\n",
       "7     selfemp  object      0       2"
      ]
     },
     "metadata": {},
     "output_type": "display_data"
    },
    {
     "name": "stdout",
     "output_type": "stream",
     "text": [
      "Numeric columns: ['rownames', 'age', 'family']\n",
      "Categorical columns: ['health', 'limit', 'gender', 'insurance', 'married', 'selfemp', 'region', 'ethnicity', 'education']\n"
     ]
    }
   ],
   "source": [
    "schema_overview = pd.DataFrame({\n",
    "    \"column\": df_real.columns,\n",
    "    \"dtype\": [df_real[c].dtype for c in df_real.columns],\n",
    "    \"nulls\": [df_real[c].isna().sum() for c in df_real.columns],\n",
    "    \"unique\": [df_real[c].nunique() for c in df_real.columns]\n",
    "}).sort_values(\"column\")\n",
    "display(schema_overview)\n",
    "\n",
    "num_cols = [c for c in df_real.columns if pd.api.types.is_numeric_dtype(df_real[c])]\n",
    "cat_cols = [c for c in df_real.columns if c not in num_cols]\n",
    "print(\"Numeric columns:\", num_cols)\n",
    "print(\"Categorical columns:\", cat_cols)"
   ]
  },
  {
   "cell_type": "markdown",
   "id": "ae7a019b",
   "metadata": {},
   "source": [
    "### 2.1 Distributions: Numeric & Categorical"
   ]
  },
  {
   "cell_type": "code",
   "execution_count": 39,
   "id": "f5f5198b",
   "metadata": {},
   "outputs": [
    {
     "data": {
      "text/html": [
       "<div>\n",
       "<style scoped>\n",
       "    .dataframe tbody tr th:only-of-type {\n",
       "        vertical-align: middle;\n",
       "    }\n",
       "\n",
       "    .dataframe tbody tr th {\n",
       "        vertical-align: top;\n",
       "    }\n",
       "\n",
       "    .dataframe thead th {\n",
       "        text-align: right;\n",
       "    }\n",
       "</style>\n",
       "<table border=\"1\" class=\"dataframe\">\n",
       "  <thead>\n",
       "    <tr style=\"text-align: right;\">\n",
       "      <th></th>\n",
       "      <th>count</th>\n",
       "      <th>mean</th>\n",
       "      <th>std</th>\n",
       "      <th>min</th>\n",
       "      <th>25%</th>\n",
       "      <th>50%</th>\n",
       "      <th>75%</th>\n",
       "      <th>max</th>\n",
       "    </tr>\n",
       "  </thead>\n",
       "  <tbody>\n",
       "    <tr>\n",
       "      <th>rownames</th>\n",
       "      <td>8802.0</td>\n",
       "      <td>4401.500000</td>\n",
       "      <td>2541.062868</td>\n",
       "      <td>1.0</td>\n",
       "      <td>2201.25</td>\n",
       "      <td>4401.5</td>\n",
       "      <td>6601.75</td>\n",
       "      <td>8802.0</td>\n",
       "    </tr>\n",
       "    <tr>\n",
       "      <th>age</th>\n",
       "      <td>8802.0</td>\n",
       "      <td>38.936833</td>\n",
       "      <td>11.110823</td>\n",
       "      <td>18.0</td>\n",
       "      <td>30.00</td>\n",
       "      <td>39.0</td>\n",
       "      <td>48.00</td>\n",
       "      <td>62.0</td>\n",
       "    </tr>\n",
       "    <tr>\n",
       "      <th>family</th>\n",
       "      <td>8802.0</td>\n",
       "      <td>3.093501</td>\n",
       "      <td>1.559633</td>\n",
       "      <td>1.0</td>\n",
       "      <td>2.00</td>\n",
       "      <td>3.0</td>\n",
       "      <td>4.00</td>\n",
       "      <td>14.0</td>\n",
       "    </tr>\n",
       "  </tbody>\n",
       "</table>\n",
       "</div>"
      ],
      "text/plain": [
       "           count         mean          std   min      25%     50%      75%  \\\n",
       "rownames  8802.0  4401.500000  2541.062868   1.0  2201.25  4401.5  6601.75   \n",
       "age       8802.0    38.936833    11.110823  18.0    30.00    39.0    48.00   \n",
       "family    8802.0     3.093501     1.559633   1.0     2.00     3.0     4.00   \n",
       "\n",
       "             max  \n",
       "rownames  8802.0  \n",
       "age         62.0  \n",
       "family      14.0  "
      ]
     },
     "metadata": {},
     "output_type": "display_data"
    },
    {
     "data": {
      "image/png": "[encoded data removed]",
      "text/plain": [
       "<Figure size 600x400 with 1 Axes>"
      ]
     },
     "metadata": {},
     "output_type": "display_data"
    },
    {
     "data": {
      "image/png": "[encoded data removed]",
      "text/plain": [
       "<Figure size 600x400 with 1 Axes>"
      ]
     },
     "metadata": {},
     "output_type": "display_data"
    },
    {
     "data": {
      "image/png": "[encoded data removed]",
      "text/plain": [
       "<Figure size 600x400 with 1 Axes>"
      ]
     },
     "metadata": {},
     "output_type": "display_data"
    },
    {
     "name": "stdout",
     "output_type": "stream",
     "text": [
      "\n",
      "Top categories for health:\n",
      "\n"
     ]
    },
    {
     "data": {
      "text/plain": [
       "health\n",
       "yes    8173\n",
       "no      629\n",
       "Name: count, dtype: int64"
      ]
     },
     "metadata": {},
     "output_type": "display_data"
    },
    {
     "data": {
      "image/png": "[encoded data removed]",
      "text/plain": [
       "<Figure size 600x400 with 1 Axes>"
      ]
     },
     "metadata": {},
     "output_type": "display_data"
    },
    {
     "name": "stdout",
     "output_type": "stream",
     "text": [
      "\n",
      "Top categories for limit:\n",
      "\n"
     ]
    },
    {
     "data": {
      "text/plain": [
       "limit\n",
       "no     7571\n",
       "yes    1231\n",
       "Name: count, dtype: int64"
      ]
     },
     "metadata": {},
     "output_type": "display_data"
    },
    {
     "data": {
      "image/png": "[encoded data removed]",
      "text/plain": [
       "<Figure size 600x400 with 1 Axes>"
      ]
     },
     "metadata": {},
     "output_type": "display_data"
    },
    {
     "name": "stdout",
     "output_type": "stream",
     "text": [
      "\n",
      "Top categories for gender:\n",
      "\n"
     ]
    },
    {
     "data": {
      "text/plain": [
       "gender\n",
       "male      4633\n",
       "female    4169\n",
       "Name: count, dtype: int64"
      ]
     },
     "metadata": {},
     "output_type": "display_data"
    },
    {
     "data": {
      "image/png": "[encoded data removed]",
      "text/plain": [
       "<Figure size 600x400 with 1 Axes>"
      ]
     },
     "metadata": {},
     "output_type": "display_data"
    },
    {
     "name": "stdout",
     "output_type": "stream",
     "text": [
      "\n",
      "Top categories for insurance:\n",
      "\n"
     ]
    },
    {
     "data": {
      "text/plain": [
       "insurance\n",
       "yes    7052\n",
       "no     1750\n",
       "Name: count, dtype: int64"
      ]
     },
     "metadata": {},
     "output_type": "display_data"
    },
    {
     "data": {
      "image/png": "[encoded data removed]",
      "text/plain": [
       "<Figure size 600x400 with 1 Axes>"
      ]
     },
     "metadata": {},
     "output_type": "display_data"
    },
    {
     "name": "stdout",
     "output_type": "stream",
     "text": [
      "\n",
      "Top categories for married:\n",
      "\n"
     ]
    },
    {
     "data": {
      "text/plain": [
       "married\n",
       "yes    5433\n",
       "no     3369\n",
       "Name: count, dtype: int64"
      ]
     },
     "metadata": {},
     "output_type": "display_data"
    },
    {
     "data": {
      "image/png": "[encoded data removed]",
      "text/plain": [
       "<Figure size 600x400 with 1 Axes>"
      ]
     },
     "metadata": {},
     "output_type": "display_data"
    },
    {
     "name": "stdout",
     "output_type": "stream",
     "text": [
      "\n",
      "Top categories for selfemp:\n",
      "\n"
     ]
    },
    {
     "data": {
      "text/plain": [
       "selfemp\n",
       "no     7731\n",
       "yes    1071\n",
       "Name: count, dtype: int64"
      ]
     },
     "metadata": {},
     "output_type": "display_data"
    },
    {
     "data": {
      "image/png": "[encoded data removed]",
      "text/plain": [
       "<Figure size 600x400 with 1 Axes>"
      ]
     },
     "metadata": {},
     "output_type": "display_data"
    },
    {
     "name": "stdout",
     "output_type": "stream",
     "text": [
      "\n",
      "Top categories for region:\n",
      "\n"
     ]
    },
    {
     "data": {
      "text/plain": [
       "region\n",
       "south        3075\n",
       "midwest      2023\n",
       "west         2022\n",
       "northeast    1682\n",
       "Name: count, dtype: int64"
      ]
     },
     "metadata": {},
     "output_type": "display_data"
    },
    {
     "data": {
      "image/png": "[encoded data removed]",
      "text/plain": [
       "<Figure size 600x400 with 1 Axes>"
      ]
     },
     "metadata": {},
     "output_type": "display_data"
    },
    {
     "name": "stdout",
     "output_type": "stream",
     "text": [
      "\n",
      "Top categories for ethnicity:\n",
      "\n"
     ]
    },
    {
     "data": {
      "text/plain": [
       "ethnicity\n",
       "cauc     7354\n",
       "afam     1083\n",
       "other     365\n",
       "Name: count, dtype: int64"
      ]
     },
     "metadata": {},
     "output_type": "display_data"
    },
    {
     "data": {
      "image/png": "[encoded data removed]",
      "text/plain": [
       "<Figure size 600x400 with 1 Axes>"
      ]
     },
     "metadata": {},
     "output_type": "display_data"
    },
    {
     "name": "stdout",
     "output_type": "stream",
     "text": [
      "\n",
      "Top categories for education:\n",
      "\n"
     ]
    },
    {
     "data": {
      "text/plain": [
       "education\n",
       "highschool    4434\n",
       "bachelor      1549\n",
       "none          1119\n",
       "other          667\n",
       "master         524\n",
       "ged            374\n",
       "phd            135\n",
       "Name: count, dtype: int64"
      ]
     },
     "metadata": {},
     "output_type": "display_data"
    },
    {
     "data": {
      "image/png": "[encoded data removed]",
      "text/plain": [
       "<Figure size 600x400 with 1 Axes>"
      ]
     },
     "metadata": {},
     "output_type": "display_data"
    }
   ],
   "source": [
    "# Numeric summaries & histograms\n",
    "if num_cols:\n",
    "    display(df_real[num_cols].describe().T)\n",
    "    for c in num_cols:\n",
    "        plt.figure()\n",
    "        df_real[c].dropna().hist(bins=30)\n",
    "        plt.title(f\"Histogram: {c}\")\n",
    "        plt.xlabel(c); plt.ylabel(\"Count\"); plt.show()\n",
    "\n",
    "# Categorical top counts + bars\n",
    "for c in cat_cols:\n",
    "    vc = df_real[c].astype(str).value_counts(dropna=False).head(15)\n",
    "    print(f\"\\nTop categories for {c}:\\n\")\n",
    "    display(vc)\n",
    "    plt.figure()\n",
    "    vc.plot(kind=\"bar\")\n",
    "    plt.title(f\"Top categories: {c}\")\n",
    "    plt.xlabel(c); plt.ylabel(\"Count\"); plt.show()"
   ]
  },
  {
   "cell_type": "markdown",
   "id": "a73862dc",
   "metadata": {},
   "source": [
    "### 2.2 Privacy-Sensitive Attributes (Auto-scan + Manual Review)"
   ]
  },
  {
   "cell_type": "code",
   "execution_count": 41,
   "id": "564f1b0f",
   "metadata": {},
   "outputs": [
    {
     "name": "stdout",
     "output_type": "stream",
     "text": [
      "Potential sensitive columns (review): ['rownames']\n"
     ]
    }
   ],
   "source": [
    "PII_PATTERNS = [\"name\",\"email\",\"mail\",\"phone\",\"mobile\",\"contact\",\"address\",\"addr\",\n",
    "                \"dob\",\"birth\",\"ssn\",\"sin\",\"hin\",\"mrn\",\"id\",\"identifier\",\"zip\",\"postal\",\n",
    "                \"lat\",\"lon\",\"location\",\"geo\",\"patient\",\"doctor\",\"provider\"]\n",
    "suspects = [c for c in df_real.columns if any(p in c.lower() for p in PII_PATTERNS)]\n",
    "print(\"Potential sensitive columns (review):\", suspects)"
   ]
  },
  {
   "cell_type": "markdown",
   "id": "ed0582e0",
   "metadata": {},
   "source": [
    "**Action (edit this cell):** Confirm sensitive columns and mitigation (remove/hash/generalize/date-shift)."
   ]
  },
  {
   "cell_type": "markdown",
   "id": "15e1edf5",
   "metadata": {},
   "source": [
    "## 3) Correlations (numeric)"
   ]
  },
  {
   "cell_type": "code",
   "execution_count": 44,
   "id": "02443fea",
   "metadata": {},
   "outputs": [
    {
     "data": {
      "image/png": "[encoded data removed]",
      "text/plain": [
       "<Figure size 800x600 with 2 Axes>"
      ]
     },
     "metadata": {},
     "output_type": "display_data"
    }
   ],
   "source": [
    "if len(num_cols) >= 2:\n",
    "    corr = df_real[num_cols].corr(numeric_only=True)\n",
    "    plt.figure(figsize=(8,6))\n",
    "    im = plt.imshow(corr, interpolation='nearest')\n",
    "    plt.title(\"Correlation Heatmap (numeric)\")\n",
    "    plt.colorbar(im, fraction=0.046, pad=0.04)\n",
    "    plt.xticks(range(len(num_cols)), num_cols, rotation=90)\n",
    "    plt.yticks(range(len(num_cols)), num_cols)\n",
    "    plt.tight_layout(); plt.show()\n",
    "else:\n",
    "    print(\"Not enough numeric columns for a correlation heatmap.\")"
   ]
  },
  {
   "cell_type": "markdown",
   "id": "d691c726",
   "metadata": {},
   "source": [
    "## 4) Baseline Synthetic Data (Bootstrapping & Noise Injection)"
   ]
  },
  {
   "cell_type": "code",
   "execution_count": 46,
   "id": "5b7693d0",
   "metadata": {},
   "outputs": [
    {
     "data": {
      "text/html": [
       "<div>\n",
       "<style scoped>\n",
       "    .dataframe tbody tr th:only-of-type {\n",
       "        vertical-align: middle;\n",
       "    }\n",
       "\n",
       "    .dataframe tbody tr th {\n",
       "        vertical-align: top;\n",
       "    }\n",
       "\n",
       "    .dataframe thead th {\n",
       "        text-align: right;\n",
       "    }\n",
       "</style>\n",
       "<table border=\"1\" class=\"dataframe\">\n",
       "  <thead>\n",
       "    <tr style=\"text-align: right;\">\n",
       "      <th></th>\n",
       "      <th>rownames</th>\n",
       "      <th>health</th>\n",
       "      <th>age</th>\n",
       "      <th>limit</th>\n",
       "      <th>gender</th>\n",
       "      <th>insurance</th>\n",
       "      <th>married</th>\n",
       "      <th>selfemp</th>\n",
       "      <th>family</th>\n",
       "      <th>region</th>\n",
       "      <th>ethnicity</th>\n",
       "      <th>education</th>\n",
       "    </tr>\n",
       "  </thead>\n",
       "  <tbody>\n",
       "    <tr>\n",
       "      <th>7270</th>\n",
       "      <td>7271</td>\n",
       "      <td>yes</td>\n",
       "      <td>43</td>\n",
       "      <td>no</td>\n",
       "      <td>female</td>\n",
       "      <td>yes</td>\n",
       "      <td>no</td>\n",
       "      <td>no</td>\n",
       "      <td>3</td>\n",
       "      <td>northeast</td>\n",
       "      <td>cauc</td>\n",
       "      <td>none</td>\n",
       "    </tr>\n",
       "    <tr>\n",
       "      <th>860</th>\n",
       "      <td>861</td>\n",
       "      <td>yes</td>\n",
       "      <td>39</td>\n",
       "      <td>no</td>\n",
       "      <td>female</td>\n",
       "      <td>yes</td>\n",
       "      <td>no</td>\n",
       "      <td>no</td>\n",
       "      <td>1</td>\n",
       "      <td>midwest</td>\n",
       "      <td>cauc</td>\n",
       "      <td>bachelor</td>\n",
       "    </tr>\n",
       "    <tr>\n",
       "      <th>5390</th>\n",
       "      <td>5391</td>\n",
       "      <td>yes</td>\n",
       "      <td>32</td>\n",
       "      <td>no</td>\n",
       "      <td>male</td>\n",
       "      <td>yes</td>\n",
       "      <td>yes</td>\n",
       "      <td>no</td>\n",
       "      <td>4</td>\n",
       "      <td>northeast</td>\n",
       "      <td>cauc</td>\n",
       "      <td>highschool</td>\n",
       "    </tr>\n",
       "    <tr>\n",
       "      <th>5191</th>\n",
       "      <td>5192</td>\n",
       "      <td>yes</td>\n",
       "      <td>32</td>\n",
       "      <td>no</td>\n",
       "      <td>female</td>\n",
       "      <td>yes</td>\n",
       "      <td>yes</td>\n",
       "      <td>yes</td>\n",
       "      <td>6</td>\n",
       "      <td>west</td>\n",
       "      <td>cauc</td>\n",
       "      <td>highschool</td>\n",
       "    </tr>\n",
       "    <tr>\n",
       "      <th>5734</th>\n",
       "      <td>5735</td>\n",
       "      <td>yes</td>\n",
       "      <td>24</td>\n",
       "      <td>no</td>\n",
       "      <td>female</td>\n",
       "      <td>yes</td>\n",
       "      <td>no</td>\n",
       "      <td>no</td>\n",
       "      <td>1</td>\n",
       "      <td>west</td>\n",
       "      <td>cauc</td>\n",
       "      <td>bachelor</td>\n",
       "    </tr>\n",
       "  </tbody>\n",
       "</table>\n",
       "</div>"
      ],
      "text/plain": [
       "      rownames health  age limit  gender insurance married selfemp  family  \\\n",
       "7270      7271    yes   43    no  female       yes      no      no       3   \n",
       "860        861    yes   39    no  female       yes      no      no       1   \n",
       "5390      5391    yes   32    no    male       yes     yes      no       4   \n",
       "5191      5192    yes   32    no  female       yes     yes     yes       6   \n",
       "5734      5735    yes   24    no  female       yes      no      no       1   \n",
       "\n",
       "         region ethnicity   education  \n",
       "7270  northeast      cauc        none  \n",
       "860     midwest      cauc    bachelor  \n",
       "5390  northeast      cauc  highschool  \n",
       "5191       west      cauc  highschool  \n",
       "5734       west      cauc    bachelor  "
      ]
     },
     "metadata": {},
     "output_type": "display_data"
    }
   ],
   "source": [
    "# Bootstrapping\n",
    "baseline_bootstrap = df_real.sample(n=len(df_real), replace=True, random_state=RANDOM_STATE)\n",
    "display(baseline_bootstrap.head())"
   ]
  },
  {
   "cell_type": "code",
   "execution_count": 47,
   "id": "de6dcdeb",
   "metadata": {},
   "outputs": [
    {
     "data": {
      "text/html": [
       "<div>\n",
       "<style scoped>\n",
       "    .dataframe tbody tr th:only-of-type {\n",
       "        vertical-align: middle;\n",
       "    }\n",
       "\n",
       "    .dataframe tbody tr th {\n",
       "        vertical-align: top;\n",
       "    }\n",
       "\n",
       "    .dataframe thead th {\n",
       "        text-align: right;\n",
       "    }\n",
       "</style>\n",
       "<table border=\"1\" class=\"dataframe\">\n",
       "  <thead>\n",
       "    <tr style=\"text-align: right;\">\n",
       "      <th></th>\n",
       "      <th>rownames</th>\n",
       "      <th>health</th>\n",
       "      <th>age</th>\n",
       "      <th>limit</th>\n",
       "      <th>gender</th>\n",
       "      <th>insurance</th>\n",
       "      <th>married</th>\n",
       "      <th>selfemp</th>\n",
       "      <th>family</th>\n",
       "      <th>region</th>\n",
       "      <th>ethnicity</th>\n",
       "      <th>education</th>\n",
       "    </tr>\n",
       "  </thead>\n",
       "  <tbody>\n",
       "    <tr>\n",
       "      <th>0</th>\n",
       "      <td>-23.537393</td>\n",
       "      <td>yes</td>\n",
       "      <td>31.192043</td>\n",
       "      <td>no</td>\n",
       "      <td>male</td>\n",
       "      <td>yes</td>\n",
       "      <td>yes</td>\n",
       "      <td>yes</td>\n",
       "      <td>4.043799</td>\n",
       "      <td>south</td>\n",
       "      <td>cauc</td>\n",
       "      <td>bachelor</td>\n",
       "    </tr>\n",
       "    <tr>\n",
       "      <th>1</th>\n",
       "      <td>91.493272</td>\n",
       "      <td>yes</td>\n",
       "      <td>31.052538</td>\n",
       "      <td>no</td>\n",
       "      <td>female</td>\n",
       "      <td>yes</td>\n",
       "      <td>yes</td>\n",
       "      <td>no</td>\n",
       "      <td>3.998143</td>\n",
       "      <td>south</td>\n",
       "      <td>cauc</td>\n",
       "      <td>highschool</td>\n",
       "    </tr>\n",
       "    <tr>\n",
       "      <th>2</th>\n",
       "      <td>91.633802</td>\n",
       "      <td>yes</td>\n",
       "      <td>54.029821</td>\n",
       "      <td>no</td>\n",
       "      <td>male</td>\n",
       "      <td>yes</td>\n",
       "      <td>yes</td>\n",
       "      <td>no</td>\n",
       "      <td>5.037287</td>\n",
       "      <td>west</td>\n",
       "      <td>cauc</td>\n",
       "      <td>ged</td>\n",
       "    </tr>\n",
       "    <tr>\n",
       "      <th>3</th>\n",
       "      <td>5.440075</td>\n",
       "      <td>yes</td>\n",
       "      <td>27.428097</td>\n",
       "      <td>no</td>\n",
       "      <td>male</td>\n",
       "      <td>yes</td>\n",
       "      <td>no</td>\n",
       "      <td>no</td>\n",
       "      <td>4.948665</td>\n",
       "      <td>west</td>\n",
       "      <td>cauc</td>\n",
       "      <td>highschool</td>\n",
       "    </tr>\n",
       "    <tr>\n",
       "      <th>4</th>\n",
       "      <td>63.393440</td>\n",
       "      <td>yes</td>\n",
       "      <td>38.881849</td>\n",
       "      <td>no</td>\n",
       "      <td>male</td>\n",
       "      <td>yes</td>\n",
       "      <td>yes</td>\n",
       "      <td>no</td>\n",
       "      <td>5.003585</td>\n",
       "      <td>west</td>\n",
       "      <td>cauc</td>\n",
       "      <td>none</td>\n",
       "    </tr>\n",
       "  </tbody>\n",
       "</table>\n",
       "</div>"
      ],
      "text/plain": [
       "    rownames health        age limit  gender insurance married selfemp  \\\n",
       "0 -23.537393    yes  31.192043    no    male       yes     yes     yes   \n",
       "1  91.493272    yes  31.052538    no  female       yes     yes      no   \n",
       "2  91.633802    yes  54.029821    no    male       yes     yes      no   \n",
       "3   5.440075    yes  27.428097    no    male       yes      no      no   \n",
       "4  63.393440    yes  38.881849    no    male       yes     yes      no   \n",
       "\n",
       "     family region ethnicity   education  \n",
       "0  4.043799  south      cauc    bachelor  \n",
       "1  3.998143  south      cauc  highschool  \n",
       "2  5.037287   west      cauc         ged  \n",
       "3  4.948665   west      cauc  highschool  \n",
       "4  5.003585   west      cauc        none  "
      ]
     },
     "metadata": {},
     "output_type": "display_data"
    }
   ],
   "source": [
    "# Noise Injection (numeric columns)\n",
    "noise_scale = 0.02  # 2% of std\n",
    "baseline_noise = df_real.copy()\n",
    "for c in num_cols:\n",
    "    std = df_real[c].std()\n",
    "    if pd.notna(std) and std > 0:\n",
    "        baseline_noise[c] = df_real[c] + np.random.normal(0, noise_scale * std, size=len(df_real))\n",
    "display(baseline_noise.head())"
   ]
  },
  {
   "cell_type": "markdown",
   "id": "e31ed8fd",
   "metadata": {},
   "source": [
    "### 4.1 Compare Real vs Baselines"
   ]
  },
  {
   "cell_type": "code",
   "execution_count": 49,
   "id": "f01af5c6",
   "metadata": {},
   "outputs": [
    {
     "data": {
      "image/png": "[encoded data removed]",
      "text/plain": [
       "<Figure size 600x400 with 1 Axes>"
      ]
     },
     "metadata": {},
     "output_type": "display_data"
    },
    {
     "data": {
      "image/png": "[encoded data removed]",
      "text/plain": [
       "<Figure size 600x400 with 1 Axes>"
      ]
     },
     "metadata": {},
     "output_type": "display_data"
    },
    {
     "data": {
      "image/png": "[encoded data removed]",
      "text/plain": [
       "<Figure size 600x400 with 1 Axes>"
      ]
     },
     "metadata": {},
     "output_type": "display_data"
    },
    {
     "data": {
      "image/png": "[encoded data removed]",
      "text/plain": [
       "<Figure size 600x400 with 1 Axes>"
      ]
     },
     "metadata": {},
     "output_type": "display_data"
    },
    {
     "data": {
      "image/png": "[encoded data removed]",
      "text/plain": [
       "<Figure size 600x400 with 1 Axes>"
      ]
     },
     "metadata": {},
     "output_type": "display_data"
    },
    {
     "data": {
      "image/png": "[encoded data removed]",
      "text/plain": [
       "<Figure size 600x400 with 1 Axes>"
      ]
     },
     "metadata": {},
     "output_type": "display_data"
    },
    {
     "data": {
      "text/html": [
       "<div>\n",
       "<style scoped>\n",
       "    .dataframe tbody tr th:only-of-type {\n",
       "        vertical-align: middle;\n",
       "    }\n",
       "\n",
       "    .dataframe tbody tr th {\n",
       "        vertical-align: top;\n",
       "    }\n",
       "\n",
       "    .dataframe thead tr th {\n",
       "        text-align: left;\n",
       "    }\n",
       "</style>\n",
       "<table border=\"1\" class=\"dataframe\">\n",
       "  <thead>\n",
       "    <tr>\n",
       "      <th></th>\n",
       "      <th colspan=\"8\" halign=\"left\">real</th>\n",
       "      <th colspan=\"8\" halign=\"left\">synthetic</th>\n",
       "    </tr>\n",
       "    <tr>\n",
       "      <th></th>\n",
       "      <th>count</th>\n",
       "      <th>mean</th>\n",
       "      <th>std</th>\n",
       "      <th>min</th>\n",
       "      <th>25%</th>\n",
       "      <th>50%</th>\n",
       "      <th>75%</th>\n",
       "      <th>max</th>\n",
       "      <th>count</th>\n",
       "      <th>mean</th>\n",
       "      <th>std</th>\n",
       "      <th>min</th>\n",
       "      <th>25%</th>\n",
       "      <th>50%</th>\n",
       "      <th>75%</th>\n",
       "      <th>max</th>\n",
       "    </tr>\n",
       "  </thead>\n",
       "  <tbody>\n",
       "    <tr>\n",
       "      <th>rownames</th>\n",
       "      <td>8802.0</td>\n",
       "      <td>4401.500000</td>\n",
       "      <td>2541.062868</td>\n",
       "      <td>1.0</td>\n",
       "      <td>2201.25</td>\n",
       "      <td>4401.5</td>\n",
       "      <td>6601.75</td>\n",
       "      <td>8802.0</td>\n",
       "      <td>8802.0</td>\n",
       "      <td>4370.905135</td>\n",
       "      <td>2529.970505</td>\n",
       "      <td>2.0</td>\n",
       "      <td>2174.75</td>\n",
       "      <td>4361.5</td>\n",
       "      <td>6560.0</td>\n",
       "      <td>8802.0</td>\n",
       "    </tr>\n",
       "    <tr>\n",
       "      <th>age</th>\n",
       "      <td>8802.0</td>\n",
       "      <td>38.936833</td>\n",
       "      <td>11.110823</td>\n",
       "      <td>18.0</td>\n",
       "      <td>30.00</td>\n",
       "      <td>39.0</td>\n",
       "      <td>48.00</td>\n",
       "      <td>62.0</td>\n",
       "      <td>8802.0</td>\n",
       "      <td>38.846171</td>\n",
       "      <td>11.148652</td>\n",
       "      <td>18.0</td>\n",
       "      <td>30.00</td>\n",
       "      <td>39.0</td>\n",
       "      <td>47.0</td>\n",
       "      <td>62.0</td>\n",
       "    </tr>\n",
       "    <tr>\n",
       "      <th>family</th>\n",
       "      <td>8802.0</td>\n",
       "      <td>3.093501</td>\n",
       "      <td>1.559633</td>\n",
       "      <td>1.0</td>\n",
       "      <td>2.00</td>\n",
       "      <td>3.0</td>\n",
       "      <td>4.00</td>\n",
       "      <td>14.0</td>\n",
       "      <td>8802.0</td>\n",
       "      <td>3.094297</td>\n",
       "      <td>1.523879</td>\n",
       "      <td>1.0</td>\n",
       "      <td>2.00</td>\n",
       "      <td>3.0</td>\n",
       "      <td>4.0</td>\n",
       "      <td>14.0</td>\n",
       "    </tr>\n",
       "  </tbody>\n",
       "</table>\n",
       "</div>"
      ],
      "text/plain": [
       "            real                                                            \\\n",
       "           count         mean          std   min      25%     50%      75%   \n",
       "rownames  8802.0  4401.500000  2541.062868   1.0  2201.25  4401.5  6601.75   \n",
       "age       8802.0    38.936833    11.110823  18.0    30.00    39.0    48.00   \n",
       "family    8802.0     3.093501     1.559633   1.0     2.00     3.0     4.00   \n",
       "\n",
       "                 synthetic                                                   \\\n",
       "             max     count         mean          std   min      25%     50%   \n",
       "rownames  8802.0    8802.0  4370.905135  2529.970505   2.0  2174.75  4361.5   \n",
       "age         62.0    8802.0    38.846171    11.148652  18.0    30.00    39.0   \n",
       "family      14.0    8802.0     3.094297     1.523879   1.0     2.00     3.0   \n",
       "\n",
       "                          \n",
       "             75%     max  \n",
       "rownames  6560.0  8802.0  \n",
       "age         47.0    62.0  \n",
       "family       4.0    14.0  "
      ]
     },
     "metadata": {},
     "output_type": "display_data"
    },
    {
     "data": {
      "text/html": [
       "<div>\n",
       "<style scoped>\n",
       "    .dataframe tbody tr th:only-of-type {\n",
       "        vertical-align: middle;\n",
       "    }\n",
       "\n",
       "    .dataframe tbody tr th {\n",
       "        vertical-align: top;\n",
       "    }\n",
       "\n",
       "    .dataframe thead tr th {\n",
       "        text-align: left;\n",
       "    }\n",
       "</style>\n",
       "<table border=\"1\" class=\"dataframe\">\n",
       "  <thead>\n",
       "    <tr>\n",
       "      <th></th>\n",
       "      <th colspan=\"8\" halign=\"left\">real</th>\n",
       "      <th colspan=\"8\" halign=\"left\">synthetic</th>\n",
       "    </tr>\n",
       "    <tr>\n",
       "      <th></th>\n",
       "      <th>count</th>\n",
       "      <th>mean</th>\n",
       "      <th>std</th>\n",
       "      <th>min</th>\n",
       "      <th>25%</th>\n",
       "      <th>50%</th>\n",
       "      <th>75%</th>\n",
       "      <th>max</th>\n",
       "      <th>count</th>\n",
       "      <th>mean</th>\n",
       "      <th>std</th>\n",
       "      <th>min</th>\n",
       "      <th>25%</th>\n",
       "      <th>50%</th>\n",
       "      <th>75%</th>\n",
       "      <th>max</th>\n",
       "    </tr>\n",
       "  </thead>\n",
       "  <tbody>\n",
       "    <tr>\n",
       "      <th>rownames</th>\n",
       "      <td>8802.0</td>\n",
       "      <td>4401.500000</td>\n",
       "      <td>2541.062868</td>\n",
       "      <td>1.0</td>\n",
       "      <td>2201.25</td>\n",
       "      <td>4401.5</td>\n",
       "      <td>6601.75</td>\n",
       "      <td>8802.0</td>\n",
       "      <td>8802.0</td>\n",
       "      <td>4401.520759</td>\n",
       "      <td>2541.579566</td>\n",
       "      <td>-60.396432</td>\n",
       "      <td>2200.664938</td>\n",
       "      <td>4397.673648</td>\n",
       "      <td>6606.061725</td>\n",
       "      <td>8903.479918</td>\n",
       "    </tr>\n",
       "    <tr>\n",
       "      <th>age</th>\n",
       "      <td>8802.0</td>\n",
       "      <td>38.936833</td>\n",
       "      <td>11.110823</td>\n",
       "      <td>18.0</td>\n",
       "      <td>30.00</td>\n",
       "      <td>39.0</td>\n",
       "      <td>48.00</td>\n",
       "      <td>62.0</td>\n",
       "      <td>8802.0</td>\n",
       "      <td>38.936533</td>\n",
       "      <td>11.112488</td>\n",
       "      <td>17.502977</td>\n",
       "      <td>30.110800</td>\n",
       "      <td>38.870910</td>\n",
       "      <td>47.634601</td>\n",
       "      <td>62.439019</td>\n",
       "    </tr>\n",
       "    <tr>\n",
       "      <th>family</th>\n",
       "      <td>8802.0</td>\n",
       "      <td>3.093501</td>\n",
       "      <td>1.559633</td>\n",
       "      <td>1.0</td>\n",
       "      <td>2.00</td>\n",
       "      <td>3.0</td>\n",
       "      <td>4.00</td>\n",
       "      <td>14.0</td>\n",
       "      <td>8802.0</td>\n",
       "      <td>3.093793</td>\n",
       "      <td>1.559712</td>\n",
       "      <td>0.896139</td>\n",
       "      <td>1.991245</td>\n",
       "      <td>2.996836</td>\n",
       "      <td>4.007796</td>\n",
       "      <td>14.038983</td>\n",
       "    </tr>\n",
       "  </tbody>\n",
       "</table>\n",
       "</div>"
      ],
      "text/plain": [
       "            real                                                            \\\n",
       "           count         mean          std   min      25%     50%      75%   \n",
       "rownames  8802.0  4401.500000  2541.062868   1.0  2201.25  4401.5  6601.75   \n",
       "age       8802.0    38.936833    11.110823  18.0    30.00    39.0    48.00   \n",
       "family    8802.0     3.093501     1.559633   1.0     2.00     3.0     4.00   \n",
       "\n",
       "                 synthetic                                                    \\\n",
       "             max     count         mean          std        min          25%   \n",
       "rownames  8802.0    8802.0  4401.520759  2541.579566 -60.396432  2200.664938   \n",
       "age         62.0    8802.0    38.936533    11.112488  17.502977    30.110800   \n",
       "family      14.0    8802.0     3.093793     1.559712   0.896139     1.991245   \n",
       "\n",
       "                                                 \n",
       "                  50%          75%          max  \n",
       "rownames  4397.673648  6606.061725  8903.479918  \n",
       "age         38.870910    47.634601    62.439019  \n",
       "family       2.996836     4.007796    14.038983  "
      ]
     },
     "metadata": {},
     "output_type": "display_data"
    }
   ],
   "source": [
    "def compare_hists(real, syn, cols, title_prefix):\n",
    "    for c in cols:\n",
    "        plt.figure()\n",
    "        real[c].dropna().plot(kind='hist', bins=30, alpha=0.5, label='Real')\n",
    "        syn[c].dropna().plot(kind='hist', bins=30, alpha=0.5, label='Synthetic')\n",
    "        plt.legend(); plt.title(f\"{title_prefix}: {c}\")\n",
    "        plt.xlabel(c); plt.ylabel('Count'); plt.show()\n",
    "\n",
    "subset = num_cols[:5] if len(num_cols)>5 else num_cols\n",
    "if subset:\n",
    "    compare_hists(df_real, baseline_bootstrap, subset, \"Bootstrap\")\n",
    "    compare_hists(df_real, baseline_noise, subset, \"Noise\")\n",
    "\n",
    "def summary_compare(real, syn, cols):\n",
    "    return pd.concat({\"real\": real[cols].describe().T,\n",
    "                      \"synthetic\": syn[cols].describe().T}, axis=1)\n",
    "display(summary_compare(df_real, baseline_bootstrap, num_cols) if num_cols else None)\n",
    "display(summary_compare(df_real, baseline_noise, num_cols) if num_cols else None)"
   ]
  },
  {
   "cell_type": "markdown",
   "id": "6016e1ae",
   "metadata": {},
   "source": [
    "*(Edit this cell)*: Bootstrapping vs Noise — strengths/limitations."
   ]
  },
  {
   "cell_type": "markdown",
   "id": "ef1b74bb",
   "metadata": {},
   "source": [
    "## 5) Advanced Synthetic Data with SDV — CTGAN & GaussianCopula"
   ]
  },
  {
   "cell_type": "code",
   "execution_count": 52,
   "id": "599242e4",
   "metadata": {},
   "outputs": [
    {
     "name": "stderr",
     "output_type": "stream",
     "text": [
      "Gen. (-2.40) | Discrim. (-0.18): 100%|███████████████████████████████████████████████| 300/300 [25:47<00:00,  5.16s/it]\n"
     ]
    },
    {
     "data": {
      "text/html": [
       "<div>\n",
       "<style scoped>\n",
       "    .dataframe tbody tr th:only-of-type {\n",
       "        vertical-align: middle;\n",
       "    }\n",
       "\n",
       "    .dataframe tbody tr th {\n",
       "        vertical-align: top;\n",
       "    }\n",
       "\n",
       "    .dataframe thead th {\n",
       "        text-align: right;\n",
       "    }\n",
       "</style>\n",
       "<table border=\"1\" class=\"dataframe\">\n",
       "  <thead>\n",
       "    <tr style=\"text-align: right;\">\n",
       "      <th></th>\n",
       "      <th>rownames</th>\n",
       "      <th>health</th>\n",
       "      <th>age</th>\n",
       "      <th>limit</th>\n",
       "      <th>gender</th>\n",
       "      <th>insurance</th>\n",
       "      <th>married</th>\n",
       "      <th>selfemp</th>\n",
       "      <th>family</th>\n",
       "      <th>region</th>\n",
       "      <th>ethnicity</th>\n",
       "      <th>education</th>\n",
       "    </tr>\n",
       "  </thead>\n",
       "  <tbody>\n",
       "    <tr>\n",
       "      <th>0</th>\n",
       "      <td>11478456</td>\n",
       "      <td>yes</td>\n",
       "      <td>30</td>\n",
       "      <td>no</td>\n",
       "      <td>female</td>\n",
       "      <td>no</td>\n",
       "      <td>no</td>\n",
       "      <td>no</td>\n",
       "      <td>2</td>\n",
       "      <td>west</td>\n",
       "      <td>other</td>\n",
       "      <td>bachelor</td>\n",
       "    </tr>\n",
       "    <tr>\n",
       "      <th>1</th>\n",
       "      <td>5376530</td>\n",
       "      <td>yes</td>\n",
       "      <td>30</td>\n",
       "      <td>no</td>\n",
       "      <td>male</td>\n",
       "      <td>no</td>\n",
       "      <td>yes</td>\n",
       "      <td>no</td>\n",
       "      <td>3</td>\n",
       "      <td>south</td>\n",
       "      <td>cauc</td>\n",
       "      <td>none</td>\n",
       "    </tr>\n",
       "    <tr>\n",
       "      <th>2</th>\n",
       "      <td>3720715</td>\n",
       "      <td>yes</td>\n",
       "      <td>21</td>\n",
       "      <td>no</td>\n",
       "      <td>female</td>\n",
       "      <td>yes</td>\n",
       "      <td>no</td>\n",
       "      <td>no</td>\n",
       "      <td>2</td>\n",
       "      <td>west</td>\n",
       "      <td>cauc</td>\n",
       "      <td>highschool</td>\n",
       "    </tr>\n",
       "    <tr>\n",
       "      <th>3</th>\n",
       "      <td>13670850</td>\n",
       "      <td>yes</td>\n",
       "      <td>31</td>\n",
       "      <td>no</td>\n",
       "      <td>female</td>\n",
       "      <td>yes</td>\n",
       "      <td>yes</td>\n",
       "      <td>no</td>\n",
       "      <td>2</td>\n",
       "      <td>midwest</td>\n",
       "      <td>cauc</td>\n",
       "      <td>none</td>\n",
       "    </tr>\n",
       "    <tr>\n",
       "      <th>4</th>\n",
       "      <td>7487644</td>\n",
       "      <td>yes</td>\n",
       "      <td>52</td>\n",
       "      <td>no</td>\n",
       "      <td>male</td>\n",
       "      <td>yes</td>\n",
       "      <td>yes</td>\n",
       "      <td>no</td>\n",
       "      <td>4</td>\n",
       "      <td>northeast</td>\n",
       "      <td>cauc</td>\n",
       "      <td>bachelor</td>\n",
       "    </tr>\n",
       "  </tbody>\n",
       "</table>\n",
       "</div>"
      ],
      "text/plain": [
       "   rownames health  age limit  gender insurance married selfemp  family  \\\n",
       "0  11478456    yes   30    no  female        no      no      no       2   \n",
       "1   5376530    yes   30    no    male        no     yes      no       3   \n",
       "2   3720715    yes   21    no  female       yes      no      no       2   \n",
       "3  13670850    yes   31    no  female       yes     yes      no       2   \n",
       "4   7487644    yes   52    no    male       yes     yes      no       4   \n",
       "\n",
       "      region ethnicity   education  \n",
       "0       west     other    bachelor  \n",
       "1      south      cauc        none  \n",
       "2       west      cauc  highschool  \n",
       "3    midwest      cauc        none  \n",
       "4  northeast      cauc    bachelor  "
      ]
     },
     "metadata": {},
     "output_type": "display_data"
    },
    {
     "data": {
      "text/html": [
       "<div>\n",
       "<style scoped>\n",
       "    .dataframe tbody tr th:only-of-type {\n",
       "        vertical-align: middle;\n",
       "    }\n",
       "\n",
       "    .dataframe tbody tr th {\n",
       "        vertical-align: top;\n",
       "    }\n",
       "\n",
       "    .dataframe thead th {\n",
       "        text-align: right;\n",
       "    }\n",
       "</style>\n",
       "<table border=\"1\" class=\"dataframe\">\n",
       "  <thead>\n",
       "    <tr style=\"text-align: right;\">\n",
       "      <th></th>\n",
       "      <th>rownames</th>\n",
       "      <th>health</th>\n",
       "      <th>age</th>\n",
       "      <th>limit</th>\n",
       "      <th>gender</th>\n",
       "      <th>insurance</th>\n",
       "      <th>married</th>\n",
       "      <th>selfemp</th>\n",
       "      <th>family</th>\n",
       "      <th>region</th>\n",
       "      <th>ethnicity</th>\n",
       "      <th>education</th>\n",
       "    </tr>\n",
       "  </thead>\n",
       "  <tbody>\n",
       "    <tr>\n",
       "      <th>0</th>\n",
       "      <td>11478456</td>\n",
       "      <td>yes</td>\n",
       "      <td>49</td>\n",
       "      <td>no</td>\n",
       "      <td>male</td>\n",
       "      <td>yes</td>\n",
       "      <td>yes</td>\n",
       "      <td>no</td>\n",
       "      <td>2</td>\n",
       "      <td>west</td>\n",
       "      <td>cauc</td>\n",
       "      <td>master</td>\n",
       "    </tr>\n",
       "    <tr>\n",
       "      <th>1</th>\n",
       "      <td>5376530</td>\n",
       "      <td>yes</td>\n",
       "      <td>20</td>\n",
       "      <td>no</td>\n",
       "      <td>female</td>\n",
       "      <td>yes</td>\n",
       "      <td>no</td>\n",
       "      <td>no</td>\n",
       "      <td>3</td>\n",
       "      <td>south</td>\n",
       "      <td>afam</td>\n",
       "      <td>highschool</td>\n",
       "    </tr>\n",
       "    <tr>\n",
       "      <th>2</th>\n",
       "      <td>3720715</td>\n",
       "      <td>yes</td>\n",
       "      <td>28</td>\n",
       "      <td>no</td>\n",
       "      <td>female</td>\n",
       "      <td>no</td>\n",
       "      <td>no</td>\n",
       "      <td>no</td>\n",
       "      <td>2</td>\n",
       "      <td>south</td>\n",
       "      <td>cauc</td>\n",
       "      <td>none</td>\n",
       "    </tr>\n",
       "    <tr>\n",
       "      <th>3</th>\n",
       "      <td>13670850</td>\n",
       "      <td>yes</td>\n",
       "      <td>43</td>\n",
       "      <td>no</td>\n",
       "      <td>male</td>\n",
       "      <td>yes</td>\n",
       "      <td>yes</td>\n",
       "      <td>no</td>\n",
       "      <td>8</td>\n",
       "      <td>northeast</td>\n",
       "      <td>cauc</td>\n",
       "      <td>bachelor</td>\n",
       "    </tr>\n",
       "    <tr>\n",
       "      <th>4</th>\n",
       "      <td>7487644</td>\n",
       "      <td>yes</td>\n",
       "      <td>45</td>\n",
       "      <td>no</td>\n",
       "      <td>male</td>\n",
       "      <td>no</td>\n",
       "      <td>no</td>\n",
       "      <td>no</td>\n",
       "      <td>3</td>\n",
       "      <td>south</td>\n",
       "      <td>cauc</td>\n",
       "      <td>highschool</td>\n",
       "    </tr>\n",
       "  </tbody>\n",
       "</table>\n",
       "</div>"
      ],
      "text/plain": [
       "   rownames health  age limit  gender insurance married selfemp  family  \\\n",
       "0  11478456    yes   49    no    male       yes     yes      no       2   \n",
       "1   5376530    yes   20    no  female       yes      no      no       3   \n",
       "2   3720715    yes   28    no  female        no      no      no       2   \n",
       "3  13670850    yes   43    no    male       yes     yes      no       8   \n",
       "4   7487644    yes   45    no    male        no      no      no       3   \n",
       "\n",
       "      region ethnicity   education  \n",
       "0       west      cauc      master  \n",
       "1      south      afam  highschool  \n",
       "2      south      cauc        none  \n",
       "3  northeast      cauc    bachelor  \n",
       "4      south      cauc  highschool  "
      ]
     },
     "metadata": {},
     "output_type": "display_data"
    }
   ],
   "source": [
    "# If needed: !pip install sdv ctgan\n",
    "from sdv.single_table import CTGANSynthesizer, GaussianCopulaSynthesizer\n",
    "from sdv.metadata import SingleTableMetadata\n",
    "\n",
    "metadata = SingleTableMetadata()\n",
    "metadata.detect_from_dataframe(data=df_real)\n",
    "\n",
    "ctgan = CTGANSynthesizer(metadata, epochs=300, verbose=True)\n",
    "ctgan.fit(df_real)\n",
    "syn_ctgan = ctgan.sample(num_rows=len(df_real))\n",
    "\n",
    "gc = GaussianCopulaSynthesizer(metadata)\n",
    "gc.fit(df_real)\n",
    "syn_gc = gc.sample(num_rows=len(df_real))\n",
    "\n",
    "display(syn_ctgan.head())\n",
    "display(syn_gc.head())"
   ]
  },
  {
   "cell_type": "markdown",
   "id": "960687be",
   "metadata": {},
   "source": [
    "## 6) Evaluation — KS, Correlation Preservation, TSTR, Privacy"
   ]
  },
  {
   "cell_type": "code",
   "execution_count": 54,
   "id": "c877e2bd",
   "metadata": {},
   "outputs": [
    {
     "ename": "ImportError",
     "evalue": "cannot import name 'ks_2sample' from 'scipy.stats' (C:\\Users\\Hello\\anaconda3\\Lib\\site-packages\\scipy\\stats\\__init__.py)",
     "output_type": "error",
     "traceback": [
      "\u001b[1;31m---------------------------------------------------------------------------\u001b[0m",
      "\u001b[1;31mImportError\u001b[0m                               Traceback (most recent call last)",
      "Cell \u001b[1;32mIn[54], line 1\u001b[0m\n\u001b[1;32m----> 1\u001b[0m \u001b[38;5;28;01mfrom\u001b[39;00m \u001b[38;5;21;01mscipy\u001b[39;00m\u001b[38;5;21;01m.\u001b[39;00m\u001b[38;5;21;01mstats\u001b[39;00m \u001b[38;5;28;01mimport\u001b[39;00m ks_2sample\n\u001b[0;32m      3\u001b[0m \u001b[38;5;28;01mdef\u001b[39;00m \u001b[38;5;21mks_table\u001b[39m(real, syn, cols):\n\u001b[0;32m      4\u001b[0m     rows \u001b[38;5;241m=\u001b[39m []\n",
      "\u001b[1;31mImportError\u001b[0m: cannot import name 'ks_2sample' from 'scipy.stats' (C:\\Users\\Hello\\anaconda3\\Lib\\site-packages\\scipy\\stats\\__init__.py)"
     ]
    }
   ],
   "source": [
    "from scipy.stats import ks_2sample\n",
    "\n",
    "def ks_table(real, syn, cols):\n",
    "    rows = []\n",
    "    for c in cols:\n",
    "        r = real[c].dropna()\n",
    "        s = syn[c].dropna()\n",
    "        if len(r) > 1 and len(s) > 1:\n",
    "            if not pd.api.types.is_numeric_dtype(r):\n",
    "                r = r.astype(\"category\").cat.codes\n",
    "                s = s.astype(\"category\").cat.codes\n",
    "            stat, p = ks_2sample(r, s)\n",
    "            rows.append((c, float(stat), float(p)))\n",
    "    return pd.DataFrame(rows, columns=[\"column\",\"ks_stat\",\"p_value\"]).sort_values(\"ks_stat\")\n",
    "\n",
    "if num_cols:\n",
    "    print(\"KS — CTGAN\"); display(ks_table(df_real, syn_ctgan, num_cols))\n",
    "    print(\"KS — GaussianCopula\"); display(ks_table(df_real, syn_gc, num_cols))\n",
    "else:\n",
    "    print(\"No numeric columns for KS test.\")"
   ]
  },
  {
   "cell_type": "code",
   "execution_count": null,
   "id": "928cb60b",
   "metadata": {},
   "outputs": [],
   "source": [
    "def corr_diff(real, syn, cols):\n",
    "    if not cols: return None\n",
    "    c1 = real[cols].corr(numeric_only=True)\n",
    "    c2 = syn[cols].corr(numeric_only=True)\n",
    "    return (c1 - c2).abs()\n",
    "\n",
    "display(corr_diff(df_real, syn_ctgan, num_cols) if num_cols else None)\n",
    "display(corr_diff(df_real, syn_gc, num_cols) if num_cols else None)"
   ]
  },
  {
   "cell_type": "code",
   "execution_count": null,
   "id": "12f56d1f",
   "metadata": {},
   "outputs": [],
   "source": [
    "# Auto-detect a plausible TSTR target (binary preferred)\n",
    "def detect_target(df: pd.DataFrame):\n",
    "    candidates = []\n",
    "    for c in df.columns:\n",
    "        nun = df[c].nunique()\n",
    "        if 1 < nun <= max(10, int(0.01*len(df))):\n",
    "            cname = c.lower()\n",
    "            if not any(k in cname for k in [\"id\",\"uuid\",\"phone\",\"email\",\"name\"]):\n",
    "                candidates.append((c, nun))\n",
    "    binary = [c for c, nun in candidates if nun == 2]\n",
    "    if binary:\n",
    "        return binary[0]\n",
    "    return sorted(candidates, key=lambda x: x[1])[0][0] if candidates else \"\"\n",
    "\n",
    "TARGET_COL = detect_target(df_real)\n",
    "print(\"Auto-detected TARGET_COL:\", TARGET_COL or \"(none — TSTR skipped)\")"
   ]
  },
  {
   "cell_type": "code",
   "execution_count": null,
   "id": "a2afc5d0",
   "metadata": {},
   "outputs": [],
   "source": [
    "from sklearn.model_selection import train_test_split\n",
    "from sklearn.preprocessing import OrdinalEncoder\n",
    "from sklearn.linear_model import LogisticRegression, LinearRegression\n",
    "from sklearn.metrics import accuracy_score, mean_squared_error\n",
    "\n",
    "def prep_Xy(df, target):\n",
    "    if not target or target not in df.columns: return None, None\n",
    "    X, y = df.drop(columns=[target]).copy(), df[target].copy()\n",
    "    cats = [c for c in X.columns if X[c].dtype == 'object' or str(X[c].dtype).startswith(\"category\")]\n",
    "    if cats:\n",
    "        enc = OrdinalEncoder(handle_unknown=\"use_encoded_value\", unknown_value=-1)\n",
    "        X[cats] = enc.fit_transform(X[cats].astype(str))\n",
    "    X = X.select_dtypes(include=[float,int])\n",
    "    return X, y\n",
    "\n",
    "if TARGET_COL:\n",
    "    X_real, y_real = prep_Xy(df_real, TARGET_COL)\n",
    "    X_train_real, X_test_real, y_train_real, y_test_real = train_test_split(X_real, y_real, test_size=0.3, random_state=RANDOM_STATE)\n",
    "    X_ctgan, y_ctgan = prep_Xy(syn_ctgan, TARGET_COL)\n",
    "    X_gc, y_gc       = prep_Xy(syn_gc, TARGET_COL)\n",
    "\n",
    "    if y_real.nunique() <= 10:\n",
    "        clf = LogisticRegression(max_iter=300)\n",
    "        clf.fit(X_ctgan, y_ctgan); pred = clf.predict(X_test_real)\n",
    "        print(\"TSTR (CTGAN) Accuracy:\", accuracy_score(y_test_real, pred))\n",
    "        clf.fit(X_gc, y_gc); pred = clf.predict(X_test_real)\n",
    "        print(\"TSTR (GaussianCopula) Accuracy:\", accuracy_score(y_test_real, pred))\n",
    "    else:\n",
    "        reg = LinearRegression()\n",
    "        reg.fit(X_ctgan, y_ctgan); pred = reg.predict(X_test_real)\n",
    "        print(\"TSTR (CTGAN) RMSE:\", mean_squared_error(y_test_real, pred, squared=False))\n",
    "        reg.fit(X_gc, y_gc); pred = reg.predict(X_test_real)\n",
    "        print(\"TSTR (GaussianCopula) RMSE:\", mean_squared_error(y_test_real, pred, squared=False))\n",
    "else:\n",
    "    print(\"No suitable TARGET_COL; skipping TSTR.\")"
   ]
  },
  {
   "cell_type": "markdown",
   "id": "19654042",
   "metadata": {},
   "source": [
    "### 6.3 Privacy — Row-level Duplication Check"
   ]
  },
  {
   "cell_type": "code",
   "execution_count": null,
   "id": "9db8df09",
   "metadata": {},
   "outputs": [],
   "source": [
    "def duplication_rate(real: pd.DataFrame, syn: pd.DataFrame) -> float:\n",
    "    real_hash = pd.util.hash_pandas_object(real.astype(str), index=False)\n",
    "    syn_hash  = pd.util.hash_pandas_object(syn.astype(str), index=False)\n",
    "    intersection = set(real_hash).intersection(set(syn_hash))\n",
    "    return len(intersection) / max(1, len(syn))\n",
    "\n",
    "print(\"Duplication (CTGAN):\", duplication_rate(df_real, syn_ctgan))\n",
    "print(\"Duplication (GaussianCopula):\", duplication_rate(df_real, syn_gc))\n",
    "print(\"Duplication (Baseline-Noise):\", duplication_rate(df_real, baseline_noise))"
   ]
  },
  {
   "cell_type": "markdown",
   "id": "96dd6dbc",
   "metadata": {},
   "source": [
    "## 7) Business Interpretation (edit this cell)\n",
    "- Similarity, Utility (TSTR), Privacy, Recommendation."
   ]
  },
  {
   "cell_type": "markdown",
   "id": "82346c81",
   "metadata": {},
   "source": [
    "---\n",
    "# **Business Challenge 2 — NYC Taxi Trip Data (HDFS / MapReduce / PySpark)**\n",
    "### Goal: HDFS + MapReduce + FPGrowth + KMeans + Business insights"
   ]
  },
  {
   "cell_type": "markdown",
   "id": "8b98441c",
   "metadata": {},
   "source": [
    "## 8) PySpark Session & Initial Exploration"
   ]
  },
  {
   "cell_type": "code",
   "execution_count": null,
   "id": "192aec18",
   "metadata": {},
   "outputs": [],
   "source": [
    "from pyspark.sql import SparkSession\n",
    "from pyspark.sql.functions import col, avg\n",
    "\n",
    "APP_NAME = \"DAMO630_NYC_Taxi\"\n",
    "spark = SparkSession.builder.appName(APP_NAME).getOrCreate()\n",
    "\n",
    "df_taxi = spark.read.parquet(LOCAL_TAXI_PATH)\n",
    "print(\"Rows:\", df_taxi.count())\n",
    "df_taxi.printSchema()\n",
    "df_taxi.show(5, truncate=False)\n",
    "\n",
    "candidates = [c for c in [\"fare_amount\",\"trip_distance\",\"passenger_count\"] if c in df_taxi.columns]\n",
    "if candidates:\n",
    "    df_taxi.select([avg(col(c)).alias(f\"avg_{c}\") for c in candidates]).show()"
   ]
  },
  {
   "cell_type": "markdown",
   "id": "3e311bba",
   "metadata": {},
   "source": [
    "## 9) HDFS Setup & Upload (Run in Terminal; paste output below)\n",
    "```bash\n",
    "hdfs dfs -mkdir -p /user/$USER/nyc_taxi/input_parquet\n",
    "hdfs dfs -put yellow_tripdata_2024-01.parquet /user/$USER/nyc_taxi/input_parquet/\n",
    "hdfs dfs -ls /user/$USER/nyc_taxi/input_parquet\n",
    "```\n",
    "**Paste terminal output here.**"
   ]
  },
  {
   "cell_type": "markdown",
   "id": "0cc0e2db",
   "metadata": {},
   "source": [
    "### 9.1 Convert Parquet → CSV in HDFS (for Hadoop Streaming)"
   ]
  },
  {
   "cell_type": "code",
   "execution_count": null,
   "id": "13a929df",
   "metadata": {},
   "outputs": [],
   "source": [
    "(\n",
    "    df_taxi.coalesce(1)\n",
    "           .write\n",
    "           .mode(\"overwrite\")\n",
    "           .option(\"header\", True)\n",
    "           .csv(\"hdfs:///user/{}/nyc_taxi/mr_input_csv\".format(spark.sparkContext.sparkUser()))\n",
    ")\n",
    "print(\"Wrote CSV to HDFS at /user/{}/nyc_taxi/mr_input_csv\".format(spark.sparkContext.sparkUser()))"
   ]
  },
  {
   "cell_type": "markdown",
   "id": "592ebaf8",
   "metadata": {},
   "source": [
    "**Verify (terminal):**\n",
    "```bash\n",
    "hdfs dfs -ls /user/$USER/nyc_taxi/mr_input_csv\n",
    "```\n",
    "Paste the listing here."
   ]
  },
  {
   "cell_type": "markdown",
   "id": "e8dbc663",
   "metadata": {},
   "source": [
    "## 10) MapReduce — Fare per Pickup Zone"
   ]
  },
  {
   "cell_type": "code",
   "execution_count": null,
   "id": "b093e6db",
   "metadata": {},
   "outputs": [],
   "source": [
    "mapper_code = r'''#!/usr/bin/env python3\n",
    "import sys, csv\n",
    "def main():\n",
    "    reader = csv.reader(sys.stdin)\n",
    "    header = None\n",
    "    pu_idx = fare_idx = None\n",
    "    for row in reader:\n",
    "        if not row: continue\n",
    "        if header is None:\n",
    "            header = row\n",
    "            if \"PULocationID\" in header: pu_idx = header.index(\"PULocationID\")\n",
    "            if \"fare_amount\" in header: fare_idx = header.index(\"fare_amount\")\n",
    "            continue\n",
    "        try:\n",
    "            pu = row[pu_idx]\n",
    "            fare = float(row[fare_idx]) if row[fare_idx] else 0.0\n",
    "        except Exception:\n",
    "            continue\n",
    "        print(f\"{pu}\\t{fare}\")\n",
    "if __name__ == \"__main__\":\n",
    "    main()'''\n",
    "reducer_code = r'''#!/usr/bin/env python3\n",
    "import sys\n",
    "current, acc = None, 0.0\n",
    "for line in sys.stdin:\n",
    "    parts = line.rstrip(\"\\n\").split(\"\\t\")\n",
    "    if len(parts)!=2: \n",
    "        continue\n",
    "    key, val = parts\n",
    "    try:\n",
    "        val = float(val)\n",
    "    except:\n",
    "        val = 0.0\n",
    "    if current is None:\n",
    "        current, acc = key, val\n",
    "    elif key == current:\n",
    "        acc += val\n",
    "    else:\n",
    "        print(f\"{current}\\t{acc:.2f}\")\n",
    "        current, acc = key, val\n",
    "if current is not None:\n",
    "    print(f\"{current}\\t{acc:.2f}\")'''\n",
    "open(\"/mnt/data/mapper.py\",\"w\", encoding=\"utf-8\").write(mapper_code)\n",
    "open(\"/mnt/data/reducer.py\",\"w\", encoding=\"utf-8\").write(reducer_code)\n",
    "print(\"Wrote /mnt/data/mapper.py and /mnt/data/reducer.py\")"
   ]
  },
  {
   "cell_type": "markdown",
   "id": "af09f78b",
   "metadata": {},
   "source": [
    "**Run Hadoop Streaming (terminal):**\n",
    "```bash\n",
    "hdfs dfs -ls /user/$USER/nyc_taxi/mr_input_csv\n",
    "\n",
    "hadoop jar $HADOOP_HOME/share/hadoop/tools/lib/hadoop-streaming-*.jar \\\n",
    "  -files /mnt/data/mapper.py,/mnt/data/reducer.py \\\n",
    "  -mapper \"python3 mapper.py\" \\\n",
    "  -reducer \"python3 reducer.py\" \\\n",
    "  -input /user/$USER/nyc_taxi/mr_input_csv/<part-csv> \\\n",
    "  -output /user/$USER/nyc_taxi/mr_output_fare_by_zone\n",
    "\n",
    "hdfs dfs -ls /user/$USER/nyc_taxi/mr_output_fare_by_zone\n",
    "hdfs dfs -cat /user/$USER/nyc_taxi/mr_output_fare_by_zone/part-00000 | head -n 20\n",
    "```\n",
    "**Paste mapper samples, note on shuffle/grouping, and reducer output here.**"
   ]
  },
  {
   "cell_type": "markdown",
   "id": "a4ff0605",
   "metadata": {},
   "source": [
    "## 11) Frequent Pattern Mining (FPGrowth)"
   ]
  },
  {
   "cell_type": "code",
   "execution_count": null,
   "id": "ee519749",
   "metadata": {},
   "outputs": [],
   "source": [
    "from pyspark.sql.functions import to_timestamp, hour, when, concat_ws, split\n",
    "\n",
    "pickup_col = \"tpep_pickup_datetime\" if \"tpep_pickup_datetime\" in df_taxi.columns else              (\"lpep_pickup_datetime\" if \"lpep_pickup_datetime\" in df_taxi.columns else None)\n",
    "\n",
    "df_ts = df_taxi.withColumn(\"pickup_dt\", to_timestamp(col(pickup_col)))\n",
    "df_ts = df_ts.withColumn(\n",
    "    \"tod_bucket\",\n",
    "    when(hour(col(\"pickup_dt\")).between(5,10), \"Morning\")\n",
    "    .when(hour(col(\"pickup_dt\")).between(11,16), \"Afternoon\")\n",
    "    .when(hour(col(\"pickup_dt\")).between(17,21), \"Evening\")\n",
    "    .otherwise(\"Night\")\n",
    ")\n",
    "\n",
    "items = df_ts.select(concat_ws(\";\", \n",
    "                               col(\"PULocationID\").cast(\"string\"),\n",
    "                               col(\"DOLocationID\").cast(\"string\"),\n",
    "                               col(\"tod_bucket\")).alias(\"basket\"))\n",
    "baskets = items.select(split(col(\"basket\"), \";\").alias(\"items\"))\n",
    "baskets.show(5, truncate=False)"
   ]
  },
  {
   "cell_type": "code",
   "execution_count": null,
   "id": "26955641",
   "metadata": {},
   "outputs": [],
   "source": [
    "from pyspark.ml.fpm import FPGrowth\n",
    "from pyspark.sql.functions import col\n",
    "\n",
    "fp = FPGrowth(itemsCol=\"items\", minSupport=0.001, minConfidence=0.1)\n",
    "model = fp.fit(baskets)\n",
    "rules = model.associationRules.orderBy(col(\"lift\").desc())\n",
    "rules.show(10, truncate=False)\n"
   ]
  },
  {
   "cell_type": "markdown",
   "id": "df4d5bb5",
   "metadata": {},
   "source": [
    "*(Edit this cell)*: Interpret the top 10 rules (support/confidence/lift)."
   ]
  },
  {
   "cell_type": "markdown",
   "id": "05758063",
   "metadata": {},
   "source": [
    "## 12) Rider Segmentation (K-Means)"
   ]
  },
  {
   "cell_type": "code",
   "execution_count": null,
   "id": "c17e95a3",
   "metadata": {},
   "outputs": [],
   "source": [
    "from pyspark.ml.feature import VectorAssembler, StandardScaler\n",
    "from pyspark.ml.clustering import KMeans\n",
    "\n",
    "use_cols = []\n",
    "if \"trip_distance\" in df_ts.columns: use_cols.append(\"trip_distance\")\n",
    "if \"fare_amount\" in df_ts.columns:   use_cols.append(\"fare_amount\")\n",
    "\n",
    "df_km = df_ts.select(\n",
    "    *[col(c).cast(\"double\") for c in use_cols],\n",
    "    when(col(\"tod_bucket\")==\"Morning\", 0.0)\n",
    "      .when(col(\"tod_bucket\")==\"Afternoon\", 1.0)\n",
    "      .when(col(\"tod_bucket\")==\"Evening\", 2.0)\n",
    "      .otherwise(3.0).alias(\"tod_num\")\n",
    ").na.drop()\n",
    "\n",
    "vec = VectorAssembler(inputCols=use_cols+[\"tod_num\"], outputCol=\"features_raw\")\n",
    "df_feat = vec.transform(df_km)\n",
    "\n",
    "scaler = StandardScaler(inputCol=\"features_raw\", outputCol=\"features\", withMean=True, withStd=True)\n",
    "df_scaled = scaler.fit(df_feat).transform(df_feat)\n",
    "\n",
    "kmeans = KMeans(k=4, seed=42, featuresCol=\"features\", predictionCol=\"cluster\")\n",
    "km_model = kmeans.fit(df_scaled)\n",
    "pred = km_model.transform(df_scaled)\n",
    "\n",
    "centers = km_model.clusterCenters()\n",
    "print(\"Cluster centers (standardized):\")\n",
    "for i, c in enumerate(centers):\n",
    "    print(i, c)\n",
    "\n",
    "pred.groupBy(\"cluster\").count().orderBy(\"count\", ascending=False).show()\n"
   ]
  },
  {
   "cell_type": "markdown",
   "id": "ff6722c2",
   "metadata": {},
   "source": [
    "*(Edit this cell)*: Define 4 rider **personas** and recommended **pricing/fleet** actions."
   ]
  },
  {
   "cell_type": "markdown",
   "id": "3e1201ef",
   "metadata": {},
   "source": [
    "---\n",
    "## 13) Business Reporting — Final Summary\n",
    "- From **FPGrowth**: list 3–5 mobility insights.\n",
    "- From **K-Means**: personas and operational levers.\n",
    "- Overall strategy recommendations (pricing, fleet, congestion)."
   ]
  }
 ],
 "metadata": {
  "kernelspec": {
   "display_name": "Python [conda env:base] *",
   "language": "python",
   "name": "conda-base-py"
  },
  "language_info": {
   "codemirror_mode": {
    "name": "ipython",
    "version": 3
   },
   "file_extension": ".py",
   "mimetype": "text/x-python",
   "name": "python",
   "nbconvert_exporter": "python",
   "pygments_lexer": "ipython3",
   "version": "3.12.7"
  }
 },
 "nbformat": 4,
 "nbformat_minor": 5
}
